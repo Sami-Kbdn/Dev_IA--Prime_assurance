{
 "cells": [
  {
   "cell_type": "code",
   "execution_count": 18,
   "metadata": {},
   "outputs": [],
   "source": [
    "import pandas as pd\n",
    "import numpy as np\n",
    "from sklearn.model_selection import train_test_split, GridSearchCV\n",
    "from sklearn import linear_model\n",
    "from sklearn.linear_model import LinearRegression\n",
    "from sklearn.metrics import r2_score\n",
    "from sklearn.preprocessing import PolynomialFeatures"
   ]
  },
  {
   "cell_type": "code",
   "execution_count": null,
   "metadata": {},
   "outputs": [],
   "source": [
    "data = pd.read_csv('/Users/Sami/Documents/projet/Brief1_primeassurance/cleaneddata.csv')\n",
    "data['underweight'] = [1 if x < 17.85 else 0 for x in data['bmi']]\n",
    "data['normal']= [1 if x >= 17.85 and x<=30.5 else 0 for x in data['bmi']]\n",
    "data['overweight'] = [1 if x > 30.5 and x <= 37.5 else 0 for x in data['bmi']]\n",
    "data['severlyoverweight'] = [1 if x > 37.5 and x <= 45.5 else 0 for x in data['bmi']]\n",
    "data['ogre'] = [1 if x > 45.5 else 0 for x in data['bmi']]\n",
    "data['nokid'] = [1 if x ==0 else 0 for x in data['children']]\n",
    "data['onekid'] = [1 if x ==1 else 0 for x in data['children']]\n",
    "data['twokid'] = [1 if x ==2 else 0 for x in data['children']]\n",
    "data['threekid'] = [1 if x ==3 else 0 for x in data['children']]\n",
    "data['fourkid'] = [1 if x ==4 else 0 for x in data['children']]\n",
    "data['fivekid'] = [1 if x ==5 else 0 for x in data['children']]\n",
    "data['elderfemale'] = [1 if x > 60.75 and x else 0 for x in data['age']]\n",
    "data['middleagefemale'] = [1 if x <= 60 and x>47.5 else 0 for x in data['age']]\n",
    "data['youngerfemale'] = [1 if x <= 46.5 and x>42.5 else 0 for x in data['age']]\n",
    "data['youngfemale'] = [1 if x <= 38 and x>31 else 0 for x in data['age']]\n",
    "data['teens']= [1 if x <=21.5 else 0 for x in data['age']]\n",
    "data['test'] = [1 if x <= 31 and x>21.5 else 0 for x in data['age']]"
   ]
  },
  {
   "cell_type": "code",
   "execution_count": 20,
   "metadata": {},
   "outputs": [],
   "source": [
    "X = data[['smoker','normal','is_east','is_north','underweight', 'overweight','severlyoverweight','ogre','nokid', 'onekid','twokid','fourkid', 'fivekid','test','elderfemale','middleagefemale', 'youngerfemale', 'youngfemale', 'teens', 'sex']]\n",
    "y = data['charges']\n"
   ]
  },
  {
   "cell_type": "code",
   "execution_count": 21,
   "metadata": {},
   "outputs": [
    {
     "name": "stdout",
     "output_type": "stream",
     "text": [
      "Coefficient of determination: 0.88\n"
     ]
    }
   ],
   "source": [
    "poly = PolynomialFeatures(degree=2)\n",
    "poly_variables = poly.fit_transform(X)\n",
    "\n",
    "X_train, X_test, y_train, y_test = train_test_split(poly_variables, y, test_size = 0.2, random_state = 42)\n",
    "\n",
    "regression = linear_model.LinearRegression()\n",
    "\n",
    "model = regression.fit(X_train, y_train)\n",
    "y_pred = model.predict(X_test)\n",
    "y_predtrain = model.predict(X_train)\n",
    "\n",
    "print(\"Coefficient of determination: %.2f\" % r2_score(y_test, y_pred))"
   ]
  },
  {
   "cell_type": "code",
   "execution_count": 22,
   "metadata": {},
   "outputs": [
    {
     "name": "stdout",
     "output_type": "stream",
     "text": [
      "13.27000000000001 0.9342765166403328\n"
     ]
    }
   ],
   "source": [
    "poly = PolynomialFeatures(degree=2)\n",
    "poly_variables = poly.fit_transform(X)\n",
    "\n",
    "X_train, X_test, y_train, y_test = train_test_split(poly_variables, y, shuffle=True, train_size=0.85, random_state=42, stratify=X['smoker'])\n",
    "\n",
    "alpha_ranges = np.arange(1,20,.01)\n",
    "maxscore = 0\n",
    "maxalp = 0\n",
    "for alp in alpha_ranges:\n",
    "    regression = linear_model.Lasso(alpha=alp, tol=0.08)\n",
    "    model = regression.fit(X_train, y_train)\n",
    "    if model.score(X_test,y_test) > maxscore:\n",
    "        maxscore = model.score(X_test,y_test)\n",
    "        maxalp = alp\n",
    "print(maxalp, maxscore)"
   ]
  },
  {
   "cell_type": "code",
   "execution_count": 24,
   "metadata": {},
   "outputs": [
    {
     "name": "stdout",
     "output_type": "stream",
     "text": [
      "1.26 0.9250183037347606\n"
     ]
    }
   ],
   "source": [
    "poly = PolynomialFeatures(degree=2)\n",
    "poly_variables = poly.fit_transform(X)\n",
    "\n",
    "X_train, X_test, y_train, y_test = train_test_split(poly_variables, y, shuffle=True, train_size=0.85, random_state=42, stratify=X['smoker'])\n",
    "\n",
    "alpha_ranges = np.arange(0.01, 10, 0.01)\n",
    "maxscore = 0\n",
    "maxalp = 0\n",
    "for alp in alpha_ranges:\n",
    "    regression = linear_model.Ridge(alpha=alp, tol=0.01)\n",
    "    model = regression.fit(X_train, y_train)\n",
    "    if model.score(X_test,y_test) > maxscore:\n",
    "        maxscore = model.score(X_test,y_test)\n",
    "        maxalp = alp\n",
    "print(maxalp, maxscore)"
   ]
  },
  {
   "cell_type": "code",
   "execution_count": 25,
   "metadata": {},
   "outputs": [
    {
     "name": "stdout",
     "output_type": "stream",
     "text": [
      "1 0.9900000000000002 0.9136565906362782\n"
     ]
    }
   ],
   "source": [
    "poly = PolynomialFeatures(degree=2)\n",
    "poly_variables = poly.fit_transform(X)\n",
    "\n",
    "X_train, X_test, y_train, y_test = train_test_split(poly_variables, y, shuffle=True, train_size=0.85, random_state=42, stratify=X['smoker'])\n",
    "\n",
    "alpha_ranges = np.arange(1, 100, 1)\n",
    "l1_range = np.arange(0.8, 1, 0.01)\n",
    "maxscore = 0\n",
    "maxalp = 0\n",
    "maxl = 0\n",
    "for alp in alpha_ranges:\n",
    "    for l in l1_range:\n",
    "        regression = linear_model.ElasticNet(alpha=alp, l1_ratio= l,tol=0.09)\n",
    "        model = regression.fit(X_train, y_train)\n",
    "        if model.score(X_test,y_test) > maxscore:\n",
    "            maxscore = model.score(X_test,y_test)\n",
    "            maxalp = alp\n",
    "            maxl = l\n",
    "print(maxalp, maxl, maxscore)"
   ]
  },
  {
   "cell_type": "code",
   "execution_count": 231,
   "metadata": {},
   "outputs": [
    {
     "name": "stdout",
     "output_type": "stream",
     "text": [
      "323 0.9800000000000002 0.9175480750293892\n"
     ]
    }
   ],
   "source": [
    "poly = PolynomialFeatures(degree=3, interaction_only=True)\n",
    "poly_variables = poly.fit_transform(X)\n",
    "\n",
    "X_train, X_test, y_train, y_test = train_test_split(poly_variables, y, shuffle=True, train_size=0.85, random_state=42, stratify=X['smoker'])\n",
    "\n",
    "alpha_ranges = np.arange(1, 1000, 1)\n",
    "l1_range = np.arange(0.8, 1, 0.01)\n",
    "maxscore = 0\n",
    "maxalp = 0\n",
    "maxl = 0\n",
    "for alp in alpha_ranges:\n",
    "    for l in l1_range:\n",
    "        regression = linear_model.ElasticNet(alpha=alp, l1_ratio= l,tol=0.09)\n",
    "        model = regression.fit(X_train, y_train)\n",
    "        if model.score(X_test,y_test) > maxscore:\n",
    "            maxscore = model.score(X_test,y_test)\n",
    "            maxalp = alp\n",
    "            maxl = l\n",
    "print(maxalp, maxl, maxscore)"
   ]
  },
  {
   "cell_type": "code",
   "execution_count": 64,
   "metadata": {},
   "outputs": [
    {
     "name": "stdout",
     "output_type": "stream",
     "text": [
      "4639.70178856866\n",
      "Coefficient of determination: 0.84\n",
      "root mean squared error: 4169.56\n",
      "Coefficient of determination: 0.91\n"
     ]
    }
   ],
   "source": [
    "poly = PolynomialFeatures(degree=2)\n",
    "poly_variables = poly.fit_transform(X)\n",
    "\n",
    "X_train, X_test, y_train, y_test = train_test_split(poly_variables, y, test_size = 0.2, random_state = 42)\n",
    "\n",
    "regression = linear_model.BayesianRidge(alpha_1=0.07, alpha_2= 0.07, lambda_1= 0.01, lambda_2=0.01)\n",
    "\n",
    "model = regression.fit(X_train, y_train)\n",
    "y_pred = model.predict(X_test)\n",
    "y_predtrain = model.predict(X_train)\n",
    "\n",
    "print(\"Coefficient of determination: %.2f\" % r2_score(y_test, y_pred))"
   ]
  },
  {
   "cell_type": "code",
   "execution_count": 65,
   "metadata": {},
   "outputs": [
    {
     "name": "stdout",
     "output_type": "stream",
     "text": [
      "root mean squared error: 4427.72\n",
      "Coefficient of determination: 0.89\n"
     ]
    }
   ],
   "source": [
    "poly = PolynomialFeatures(degree=2)\n",
    "poly_variables = poly.fit_transform(X)\n",
    "\n",
    "X_train, X_test, y_train, y_test = train_test_split(poly_variables, y, test_size = 0.2, random_state = 42)\n",
    "\n",
    "regression = linear_model.RANSACRegressor()\n",
    "\n",
    "model = regression.fit(X_train, y_train)\n",
    "y_pred = model.predict(X_test)\n",
    "\n",
    "print(\"Coefficient of determination: %.2f\" % r2_score(y_test, y_pred))"
   ]
  },
  {
   "cell_type": "code",
   "execution_count": 66,
   "metadata": {},
   "outputs": [
    {
     "name": "stdout",
     "output_type": "stream",
     "text": [
      "root mean squared error: 4250.36\n",
      "Coefficient of determination: 0.90\n"
     ]
    }
   ],
   "source": [
    "poly = PolynomialFeatures(degree=2)\n",
    "poly_variables = poly.fit_transform(X)\n",
    "\n",
    "X_train, X_test, y_train, y_test = train_test_split(poly_variables, y, test_size = 0.2, random_state = 42)\n",
    "\n",
    "regression = linear_model.SGDRegressor()\n",
    "\n",
    "model = regression.fit(X_train, y_train)\n",
    "y_pred = model.predict(X_test)\n",
    "\n",
    "print(\"Coefficient of determination: %.2f\" % r2_score(y_test, y_pred))"
   ]
  }
 ],
 "metadata": {
  "kernelspec": {
   "display_name": ".venv",
   "language": "python",
   "name": "python3"
  },
  "language_info": {
   "codemirror_mode": {
    "name": "ipython",
    "version": 3
   },
   "file_extension": ".py",
   "mimetype": "text/x-python",
   "name": "python",
   "nbconvert_exporter": "python",
   "pygments_lexer": "ipython3",
   "version": "3.12.3"
  }
 },
 "nbformat": 4,
 "nbformat_minor": 2
}
